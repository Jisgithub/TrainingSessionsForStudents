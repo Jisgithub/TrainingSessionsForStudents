{
  "nbformat": 4,
  "nbformat_minor": 0,
  "metadata": {
    "colab": {
      "provenance": [],
      "authorship_tag": "ABX9TyPHoJAGzPS0mZn1/R1EcnLq",
      "include_colab_link": true
    },
    "kernelspec": {
      "name": "python3",
      "display_name": "Python 3"
    },
    "language_info": {
      "name": "python"
    }
  },
  "cells": [
    {
      "cell_type": "markdown",
      "metadata": {
        "id": "view-in-github",
        "colab_type": "text"
      },
      "source": [
        "<a href=\"https://colab.research.google.com/github/sudheepelayidom/TrainingSessionsForStudents/blob/main/ReadFileTo_Array.ipynb\" target=\"_parent\"><img src=\"https://colab.research.google.com/assets/colab-badge.svg\" alt=\"Open In Colab\"/></a>"
      ]
    },
    {
      "cell_type": "code",
      "execution_count": 2,
      "metadata": {
        "colab": {
          "base_uri": "https://localhost:8080/"
        },
        "id": "_nu29NUsAmBI",
        "outputId": "9e68e10e-139c-482b-80c7-b3b35b0d9c5e"
      },
      "outputs": [
        {
          "output_type": "stream",
          "name": "stdout",
          "text": [
            "[[20. 30.]\n",
            " [30. 40.]\n",
            " [40. 50.]]\n"
          ]
        }
      ],
      "source": [
        "import numpy as np\n",
        "\n",
        "def read_file_to_array(filename):\n",
        "  \"\"\"\n",
        "  Reads data from a file and stores it in a NumPy array.\n",
        "\n",
        "  Args:\n",
        "    filename: The name of the file to read.\n",
        "\n",
        "  Returns:\n",
        "    A NumPy array containing the data from the file.\n",
        "  \"\"\"\n",
        "\n",
        "  try:\n",
        "    # Read the entire file content into a string\n",
        "    with open(filename, 'r') as file:\n",
        "      data = file.read()\n",
        "\n",
        "    # Split the string into lines\n",
        "    lines = data.splitlines()\n",
        "\n",
        "    # Convert each line to a list of numbers (assuming numbers are separated by spaces)\n",
        "    data_array = []\n",
        "    for line in lines:\n",
        "      row = [float(x) for x in line.split()]\n",
        "      data_array.append(row)\n",
        "\n",
        "    # Convert the list of lists to a NumPy array\n",
        "    return np.array(data_array)\n",
        "\n",
        "  except FileNotFoundError:\n",
        "    print(f\"Error: File '{filename}' not found.\")\n",
        "    return None\n",
        "\n",
        "# Example usage:\n",
        "filename = '/content/sample_data/data.txt'  # Replace with the actual filename\n",
        "data_array = read_file_to_array(filename)\n",
        "\n",
        "if data_array is not None:\n",
        "  print(data_array)"
      ]
    }
  ]
}