{
  "nbformat": 4,
  "nbformat_minor": 0,
  "metadata": {
    "colab": {
      "provenance": [],
      "authorship_tag": "ABX9TyNvhRoLPKUdjpl0/mW1de4X",
      "include_colab_link": true
    },
    "kernelspec": {
      "name": "python3",
      "display_name": "Python 3"
    },
    "language_info": {
      "name": "python"
    }
  },
  "cells": [
    {
      "cell_type": "markdown",
      "metadata": {
        "id": "view-in-github",
        "colab_type": "text"
      },
      "source": [
        "<a href=\"https://colab.research.google.com/github/sudheepelayidom/TrainingSessionsForStudents/blob/main/PerceptronCodeTF.ipynb\" target=\"_parent\"><img src=\"https://colab.research.google.com/assets/colab-badge.svg\" alt=\"Open In Colab\"/></a>"
      ]
    },
    {
      "cell_type": "code",
      "source": [
        "import tensorflow as tf\n",
        "import numpy as np"
      ],
      "metadata": {
        "id": "LhDQDrIa13Hg"
      },
      "execution_count": 28,
      "outputs": []
    },
    {
      "cell_type": "code",
      "source": [
        "# Define the data\n",
        "X = np.array([[0, 0], [0, 1], [1, 0], [1, 1]])\n",
        "y = np.array([[0], [1], [1], [0]])\n",
        "Test_X=np.array([[0, 0], [0, 0], [0, 0], [0, 0]])"
      ],
      "metadata": {
        "id": "zT-2R4vq2Ay1"
      },
      "execution_count": 29,
      "outputs": []
    },
    {
      "cell_type": "code",
      "source": [
        "# Define the model\n",
        "model = tf.keras.models.Sequential([\n",
        "    tf.keras.layers.Dense(1, activation='sigmoid', input_shape=(2,)) ])\n",
        "# means each data point is a pair of two values like(X1,X2)\n",
        "#sigmoid function is used in binary classification problems and output is sliced between(0,1), where as RelU is used in non linear classification problems\n",
        "#with outputs sliced in the range (0, infinity) and it does not have vanishing gradient problem like sigmoid and is computationally efficient\n",
        "#Hence usually Sigmoid or softmax is used in output layers and ReLU is used in hidden layers of a binary and multiclass classification problems"
      ],
      "metadata": {
        "id": "gMB8XPPN2EVN"
      },
      "execution_count": 30,
      "outputs": []
    },
    {
      "cell_type": "code",
      "source": [
        "# Compile the model\n",
        "model.compile(optimizer='adam', loss='binary_crossentropy', metrics=['accuracy']) # loss='binary_crossentropy' is used for binary classification problems"
      ],
      "metadata": {
        "id": "TKFnnk0a14Ig"
      },
      "execution_count": 31,
      "outputs": []
    },
    {
      "cell_type": "code",
      "source": [
        "# Train the model\n",
        "\n",
        "model.fit(X, y, epochs=5000, verbose=0)"
      ],
      "metadata": {
        "id": "hHc53-p-2MZz",
        "outputId": "fc012d23-575c-43b9-9547-31a5f29d8da3",
        "colab": {
          "base_uri": "https://localhost:8080/"
        }
      },
      "execution_count": 32,
      "outputs": [
        {
          "output_type": "execute_result",
          "data": {
            "text/plain": [
              "<keras.src.callbacks.history.History at 0x7c0af90e06e0>"
            ]
          },
          "metadata": {},
          "execution_count": 32
        }
      ]
    },
    {
      "cell_type": "code",
      "source": [
        "# Evaluate the model\n",
        "loss, accuracy = model.evaluate(X, y)\n",
        "print(f'Test Loss: {loss:.4f}')\n",
        "print(f'Test Accuracy: {accuracy:.4f}')"
      ],
      "metadata": {
        "id": "b_FHzgDb2Ncq",
        "colab": {
          "base_uri": "https://localhost:8080/"
        },
        "outputId": "54222d28-a046-4a10-f4f3-bea2e9e5e0b7"
      },
      "execution_count": 34,
      "outputs": [
        {
          "output_type": "stream",
          "name": "stdout",
          "text": [
            "\u001b[1m1/1\u001b[0m \u001b[32m━━━━━━━━━━━━━━━━━━━━\u001b[0m\u001b[37m\u001b[0m \u001b[1m0s\u001b[0m 60ms/step - accuracy: 0.5000 - loss: 0.6931\n",
            "Test Loss: 0.6931\n",
            "Test Accuracy: 0.5000\n"
          ]
        }
      ]
    },
    {
      "cell_type": "code",
      "source": [
        "# Make predictions\n",
        "predictions = model.predict(Test_X)\n",
        "print(f'Predictions: {predictions}')"
      ],
      "metadata": {
        "id": "yHDPUOL42Tj5",
        "colab": {
          "base_uri": "https://localhost:8080/"
        },
        "outputId": "e92d9c49-79b0-4c71-8118-764ecf164b9d"
      },
      "execution_count": 35,
      "outputs": [
        {
          "output_type": "stream",
          "name": "stdout",
          "text": [
            "\u001b[1m1/1\u001b[0m \u001b[32m━━━━━━━━━━━━━━━━━━━━\u001b[0m\u001b[37m\u001b[0m \u001b[1m0s\u001b[0m 51ms/step\n",
            "Predictions: [[0.5000007]\n",
            " [0.5000007]\n",
            " [0.5000007]\n",
            " [0.5000007]]\n"
          ]
        }
      ]
    }
  ]
}